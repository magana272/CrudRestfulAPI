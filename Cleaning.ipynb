{
 "cells": [
  {
   "cell_type": "code",
   "execution_count": 2,
   "id": "d8691ae9-166b-4da2-bf72-89c771a589c7",
   "metadata": {},
   "outputs": [
    {
     "name": "stdout",
     "output_type": "stream",
     "text": [
      "Installed kernelspec my_env in C:\\Users\\super_grool\\AppData\\Roaming\\jupyter\\kernels\\my_env\n"
     ]
    }
   ],
   "source": [
    "!python -m ipykernel install --user --name my_env --display-name \"Cleaning\"\n"
   ]
  },
  {
   "cell_type": "code",
   "execution_count": 1,
   "id": "482d04d0-0939-4333-9862-e002a91b4202",
   "metadata": {},
   "outputs": [],
   "source": [
    "import pandas as pd"
   ]
  },
  {
   "cell_type": "code",
   "execution_count": 142,
   "id": "54af8ea1-ff6c-4407-a5ac-e40a3a862b2e",
   "metadata": {},
   "outputs": [],
   "source": [
    "data = pd.read_csv(\"./src/main/resources/MultiThreaded_books.csv\",  on_bad_lines='skip')\n",
    "data = data.loc[:,:\"publisher\"]\n",
    "\n",
    "data[\"authors\"] = data[\"authors\"].apply(lambda x : x.split(\"/\"))\n",
    "data = data.explode(\"authors\")\n",
    "authors = data.pop(\"authors\")\n",
    "authors= authors.to_frame()"
   ]
  },
  {
   "cell_type": "code",
   "execution_count": 143,
   "id": "caa3c371-b915-4413-a7a5-05f6e565eaa2",
   "metadata": {},
   "outputs": [],
   "source": [
    "bookinfo = data.drop_duplicates()"
   ]
  },
  {
   "cell_type": "code",
   "execution_count": 144,
   "id": "76b9925a-388a-449a-9e5f-d36bed0872ec",
   "metadata": {},
   "outputs": [],
   "source": [
    "bookInfo=bookInfo.rename(columns= {\"book_ID\":\"id\"}) \n",
    "authors[\"id\"]=authors[\"authors\"].apply(hash)\n"
   ]
  },
  {
   "cell_type": "code",
   "execution_count": 145,
   "id": "0c7f4d4b-dfab-4288-9250-baeed55ef450",
   "metadata": {},
   "outputs": [],
   "source": [
    "# bookInfo[\"author_id\"] = bookInfo[\"author_id\"])"
   ]
  },
  {
   "cell_type": "code",
   "execution_count": 152,
   "id": "956ac607-87f0-4db4-b242-2783b6867907",
   "metadata": {},
   "outputs": [
    {
     "data": {
      "text/plain": [
       "0               J.K. Rowling\n",
       "0              Mary GrandPré\n",
       "1               J.K. Rowling\n",
       "1              Mary GrandPré\n",
       "2               J.K. Rowling\n",
       "                ...         \n",
       "11118     Michael Hemmingson\n",
       "11119    William T. Vollmann\n",
       "11120    William T. Vollmann\n",
       "11121    William T. Vollmann\n",
       "11122             Mark Twain\n",
       "Name: authors, Length: 19237, dtype: object"
      ]
     },
     "execution_count": 152,
     "metadata": {},
     "output_type": "execute_result"
    }
   ],
   "source": [
    "authors[\"authors\"]"
   ]
  },
  {
   "cell_type": "code",
   "execution_count": 154,
   "id": "0b10e259-52ec-400f-b40d-803469b32edc",
   "metadata": {},
   "outputs": [
    {
     "data": {
      "text/html": [
       "<div>\n",
       "<style scoped>\n",
       "    .dataframe tbody tr th:only-of-type {\n",
       "        vertical-align: middle;\n",
       "    }\n",
       "\n",
       "    .dataframe tbody tr th {\n",
       "        vertical-align: top;\n",
       "    }\n",
       "\n",
       "    .dataframe thead th {\n",
       "        text-align: right;\n",
       "    }\n",
       "</style>\n",
       "<table border=\"1\" class=\"dataframe\">\n",
       "  <thead>\n",
       "    <tr style=\"text-align: right;\">\n",
       "      <th></th>\n",
       "      <th>id</th>\n",
       "      <th>title</th>\n",
       "      <th>average_rating</th>\n",
       "      <th>isbn</th>\n",
       "      <th>isbn13</th>\n",
       "      <th>language_code</th>\n",
       "      <th>num_pages</th>\n",
       "      <th>ratings_count</th>\n",
       "      <th>text_reviews_count</th>\n",
       "      <th>publication_date</th>\n",
       "      <th>publisher</th>\n",
       "      <th>author_id</th>\n",
       "    </tr>\n",
       "  </thead>\n",
       "  <tbody>\n",
       "    <tr>\n",
       "      <th>0</th>\n",
       "      <td>1</td>\n",
       "      <td>Harry Potter and the Half-Blood Prince (Harry ...</td>\n",
       "      <td>4.57</td>\n",
       "      <td>0439785960</td>\n",
       "      <td>9780439785969</td>\n",
       "      <td>eng</td>\n",
       "      <td>652</td>\n",
       "      <td>2095690</td>\n",
       "      <td>27591</td>\n",
       "      <td>9/16/2006</td>\n",
       "      <td>Scholastic Inc.</td>\n",
       "      <td>8394716670404476876</td>\n",
       "    </tr>\n",
       "    <tr>\n",
       "      <th>0</th>\n",
       "      <td>1</td>\n",
       "      <td>Harry Potter and the Half-Blood Prince (Harry ...</td>\n",
       "      <td>4.57</td>\n",
       "      <td>0439785960</td>\n",
       "      <td>9780439785969</td>\n",
       "      <td>eng</td>\n",
       "      <td>652</td>\n",
       "      <td>2095690</td>\n",
       "      <td>27591</td>\n",
       "      <td>9/16/2006</td>\n",
       "      <td>Scholastic Inc.</td>\n",
       "      <td>-1277078846803799247</td>\n",
       "    </tr>\n",
       "    <tr>\n",
       "      <th>1</th>\n",
       "      <td>2</td>\n",
       "      <td>Harry Potter and the Order of the Phoenix (Har...</td>\n",
       "      <td>4.49</td>\n",
       "      <td>0439358078</td>\n",
       "      <td>9780439358071</td>\n",
       "      <td>eng</td>\n",
       "      <td>870</td>\n",
       "      <td>2153167</td>\n",
       "      <td>29221</td>\n",
       "      <td>9/1/2004</td>\n",
       "      <td>Scholastic Inc.</td>\n",
       "      <td>8394716670404476876</td>\n",
       "    </tr>\n",
       "    <tr>\n",
       "      <th>1</th>\n",
       "      <td>2</td>\n",
       "      <td>Harry Potter and the Order of the Phoenix (Har...</td>\n",
       "      <td>4.49</td>\n",
       "      <td>0439358078</td>\n",
       "      <td>9780439358071</td>\n",
       "      <td>eng</td>\n",
       "      <td>870</td>\n",
       "      <td>2153167</td>\n",
       "      <td>29221</td>\n",
       "      <td>9/1/2004</td>\n",
       "      <td>Scholastic Inc.</td>\n",
       "      <td>-1277078846803799247</td>\n",
       "    </tr>\n",
       "    <tr>\n",
       "      <th>2</th>\n",
       "      <td>4</td>\n",
       "      <td>Harry Potter and the Chamber of Secrets (Harry...</td>\n",
       "      <td>4.42</td>\n",
       "      <td>0439554896</td>\n",
       "      <td>9780439554893</td>\n",
       "      <td>eng</td>\n",
       "      <td>352</td>\n",
       "      <td>6333</td>\n",
       "      <td>244</td>\n",
       "      <td>11/1/2003</td>\n",
       "      <td>Scholastic</td>\n",
       "      <td>8394716670404476876</td>\n",
       "    </tr>\n",
       "  </tbody>\n",
       "</table>\n",
       "</div>"
      ],
      "text/plain": [
       "   id                                              title  average_rating  \\\n",
       "0   1  Harry Potter and the Half-Blood Prince (Harry ...            4.57   \n",
       "0   1  Harry Potter and the Half-Blood Prince (Harry ...            4.57   \n",
       "1   2  Harry Potter and the Order of the Phoenix (Har...            4.49   \n",
       "1   2  Harry Potter and the Order of the Phoenix (Har...            4.49   \n",
       "2   4  Harry Potter and the Chamber of Secrets (Harry...            4.42   \n",
       "\n",
       "         isbn         isbn13 language_code    num_pages  ratings_count  \\\n",
       "0  0439785960  9780439785969           eng          652        2095690   \n",
       "0  0439785960  9780439785969           eng          652        2095690   \n",
       "1  0439358078  9780439358071           eng          870        2153167   \n",
       "1  0439358078  9780439358071           eng          870        2153167   \n",
       "2  0439554896  9780439554893           eng          352           6333   \n",
       "\n",
       "   text_reviews_count publication_date        publisher            author_id  \n",
       "0               27591        9/16/2006  Scholastic Inc.  8394716670404476876  \n",
       "0               27591        9/16/2006  Scholastic Inc. -1277078846803799247  \n",
       "1               29221         9/1/2004  Scholastic Inc.  8394716670404476876  \n",
       "1               29221         9/1/2004  Scholastic Inc. -1277078846803799247  \n",
       "2                 244        11/1/2003       Scholastic  8394716670404476876  "
      ]
     },
     "execution_count": 154,
     "metadata": {},
     "output_type": "execute_result"
    }
   ],
   "source": [
    "bookInfo.head()"
   ]
  },
  {
   "cell_type": "code",
   "execution_count": 151,
   "id": "50123488-58f4-4292-91f1-9811e85540e0",
   "metadata": {},
   "outputs": [],
   "source": [
    "bookInfo.to_csv(\"./src/main/resources/book_info.csv\",index = False)\n",
    "authors.to_csv(\"./src/main/resources/authors.csv\", index = False)"
   ]
  },
  {
   "cell_type": "code",
   "execution_count": null,
   "id": "a0041010-b128-448c-8c9a-953f1d7f0e7f",
   "metadata": {},
   "outputs": [],
   "source": [
    "\"book_ID,title,average_rating,isbn,isbn13,language_code,num_pages,ratings_count,text_reviews_count,publication_date,publisher,authorid\", \"1,Potter and the Half-Blood Prince (Harry Potter  #6),4.57,0439785960,9780439785969,eng,652,2095690,27591,9/16/2006,Scholastic Inc.,8394716670404476876\", \"2,Harry Potter and the Order of the Phoenix (Harry Potter  #5),4.49,0439358078,9780439358071,eng,870,2153167,29221,9/1/2004,Scholastic Inc.,-1277078846803799247\", \"4,Harry Potter and the Chamber of Secrets (Harry Potter  #2),4.42,0439554896,9780439554893,eng,352,6333,244,11/1/2003,Scholastic,8394716670404476876\"\n",
    "];"
   ]
  }
 ],
 "metadata": {
  "kernelspec": {
   "display_name": "Python 3 (ipykernel)",
   "language": "python",
   "name": "python3"
  },
  "language_info": {
   "codemirror_mode": {
    "name": "ipython",
    "version": 3
   },
   "file_extension": ".py",
   "mimetype": "text/x-python",
   "name": "python",
   "nbconvert_exporter": "python",
   "pygments_lexer": "ipython3",
   "version": "3.13.5"
  }
 },
 "nbformat": 4,
 "nbformat_minor": 5
}
